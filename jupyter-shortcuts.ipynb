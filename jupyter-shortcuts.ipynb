{
 "cells": [
  {
   "cell_type": "code",
   "execution_count": 1,
   "metadata": {},
   "outputs": [],
   "source": [
    "#\n",
    "# Jupyter notebook shortcuts \n",
    "#"
   ]
  },
  {
   "cell_type": "markdown",
   "metadata": {},
   "source": [
    "1. Shift+Enter : to run the current cell and move to next\n",
    "\n",
    "2. Esc then a : adds a new cell above the current cell\n",
    "\n",
    "3. Esc then b : adds a new cell below the current cell\n",
    "\n",
    "4. ? before object : to get documentation\n",
    "\n",
    "5. ?? before object : to get source code along with documentation\n",
    "\n",
    "6. Tab+Shift inside function brackets : to get parameters info it takes\n",
    "\n",
    "7. Tab+Shift+Shift inside function brackets to get : to get source code\n",
    "\n",
    "8. Tab+Shift+Shift+Shift inside function brackets : source code in window\n",
    "\n",
    "9. Tab after object[DOT] : suggestions for methods associated with it\n",
    "\n",
    "10. Ctrl + Multiple Selects : To edit multiple lines at single time\n",
    "\n",
    "11. Esc then dd : deletes the current cell\n",
    "\n",
    "12. Esc then h : to get window of all possible shortcuts."
   ]
  },
  {
   "cell_type": "code",
   "execution_count": null,
   "metadata": {},
   "outputs": [],
   "source": []
  }
 ],
 "metadata": {
  "kernelspec": {
   "display_name": "Python 3",
   "language": "python",
   "name": "python3"
  },
  "language_info": {
   "codemirror_mode": {
    "name": "ipython",
    "version": 3
   },
   "file_extension": ".py",
   "mimetype": "text/x-python",
   "name": "python",
   "nbconvert_exporter": "python",
   "pygments_lexer": "ipython3",
   "version": "3.6.5"
  }
 },
 "nbformat": 4,
 "nbformat_minor": 2
}
